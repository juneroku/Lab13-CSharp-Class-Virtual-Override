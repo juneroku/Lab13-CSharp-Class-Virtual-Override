{
 "cells": [
  {
   "cell_type": "markdown",
   "metadata": {},
   "source": [
    "# Lab 13 Exercise 1"
   ]
  },
  {
   "cell_type": "markdown",
   "metadata": {},
   "source": [
    "## Polymorphism (virtual-override methods)"
   ]
  },
  {
   "cell_type": "markdown",
   "metadata": {},
   "source": [
    "### Polymorphism \n",
    "Polymorphism หมายถึงความสามารถของวัตถุที่จะมีรูปแบบหรือพฤติกรรมได้หลายแบบ ในบริบทของ virtual และ override methods, หมายถึงความสามารถของวัตถุใน derived class  ที่จะให้พฤติกรรมที่แตกต่างจาก base class  เมื่อถูกเรียกผ่านตัวแปรชนิด base class \n",
    "\n",
    "ในการทำ polymorphism จะต้องมีองค์ประกอบสามอย่างคือ\n",
    "\n",
    "1. ต้องมีการสืบทอด เพื่อให้เกิด base class และ derived class\n",
    "\n",
    "2. ต้องมี Virtual Methods (เมธอดเสมือน) ใน base class ที่ถูกประกาศด้วยคำสำคัญ virtual ซึ่งหมายความว่าเมธอดนี้สามารถถูกแทนที่ (override) ใน derived class ได้\n",
    "\n",
    "3. ต้องมี Override Methods (เมธอดแทนที่): เป็นเมธอดใน derived class ที่ถูกประกาศด้วยคำสำคัญ override ซึ่งจะแทนที่เมธอดเสมือนใน base class โดยที่เมธอด override ต้องมีชื่อ, ชนิดของค่าส่งคืน, และพารามิเตอร์เหมือนกับเมธอด virtual ใน base class"
   ]
  },
  {
   "cell_type": "markdown",
   "metadata": {},
   "source": [
    "1.สร้าง console application project\n",
    "\n",
    "```cmd\n",
    "dotnet new console --name Lab13_Ex01\n",
    "```"
   ]
  },
  {
   "cell_type": "markdown",
   "metadata": {},
   "source": [
    "2.เปลี่ยน code ให้เป็นดังต่อไปนี้\n",
    "\n",
    "```csharp\n",
    "DerivedClass dcRef = new DerivedClass();\n",
    "BaseClass bcRef = new BaseClass();\n",
    "\n",
    "dcRef.Info();\n",
    "bcRef.Info();\n",
    "\n",
    "class BaseClass\n",
    "{\n",
    "    virtual public void Info()\n",
    "    {\n",
    "        System.Console.WriteLine(\"This is BaseClass\");\n",
    "    }\n",
    "}\n",
    "\n",
    "class DerivedClass : BaseClass\n",
    "{\n",
    "    override public void Info()\n",
    "    {\n",
    "        System.Console.WriteLine(\"This is DerivedClass\");\n",
    "    }\n",
    "}\n",
    "```\n",
    "\n"
   ]
  },
  {
   "cell_type": "markdown",
   "metadata": {},
   "source": [
    "3.Build project โดยการใช้คำสั่ง\n",
    "\n",
    "```cmd\n",
    "dotnet build  Lab13_Ex01\n",
    "```\n",
    "\n",
    "ถ้ามีที่ผิดพลาดในโปรแกรม ให้แก้ไขให้ถูกต้อง\n",
    "\n"
   ]
  },
  {
   "cell_type": "markdown",
   "metadata": {},
   "source": [
    "4.บันทึกผลที่ได้จากการรันคำสั่งในข้อ 3\n",
    "\n"
   ]
  },
  {
   "attachments": {
    "image.png": {
     "image/png": "[encoded data removed]"
    }
   },
   "cell_type": "markdown",
   "metadata": {},
   "source": [
    "![image.png](attachment:image.png)"
   ]
  },
  {
   "cell_type": "markdown",
   "metadata": {},
   "source": [
    "5.Run project โดยการใช้คำสั่ง\n",
    "\n",
    "```cmd\n",
    "dotnet run --project Lab13_Ex01\n",
    "```\n",
    "\n"
   ]
  },
  {
   "cell_type": "markdown",
   "metadata": {},
   "source": [
    "6.บันทึกผลที่ได้จากการรันคำสั่งในข้อ 5\n"
   ]
  },
  {
   "attachments": {
    "image.png": {
     "image/png": "[encoded data removed]"
    }
   },
   "cell_type": "markdown",
   "metadata": {},
   "source": [
    "![image.png](attachment:image.png)"
   ]
  },
  {
   "cell_type": "markdown",
   "metadata": {},
   "source": [
    "\n",
    "7.อธิบายสิ่งที่พบในการทดลอง"
   ]
  },
  {
   "cell_type": "markdown",
   "metadata": {},
   "source": [
    "การสืบทอดและการโอเวอร์ไรด์เมธอด (Method Overriding) ใน C# โดยการสร้างเมธอดในคลาสฐาน (BaseClass) และทำการเขียนทับเมธอดในคลาสที่สืบทอด (DerivedClass) เพื่อให้มีพฤติกรรมที่แตกต่างกันระหว่างคลาสฐานและคลาสที่สืบทอด"
   ]
  }
 ],
 "metadata": {
  "kernelspec": {
   "display_name": ".NET (C#)",
   "language": "C#",
   "name": ".net-csharp"
  },
  "polyglot_notebook": {
   "kernelInfo": {
    "defaultKernelName": "csharp",
    "items": [
     {
      "aliases": [],
      "languageName": "csharp",
      "name": "csharp"
     }
    ]
   }
  }
 },
 "nbformat": 4,
 "nbformat_minor": 2
}
