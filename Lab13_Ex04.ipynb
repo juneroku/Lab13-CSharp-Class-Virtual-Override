{
 "cells": [
  {
   "cell_type": "markdown",
   "metadata": {},
   "source": [
    "# Lab 13 Exercise 4"
   ]
  },
  {
   "cell_type": "markdown",
   "metadata": {},
   "source": [
    "## Polymorphism กับ Abstract Class"
   ]
  },
  {
   "cell_type": "markdown",
   "metadata": {},
   "source": [
    "### Abstract Class \n",
    "\n",
    "Abstract Class คือคลาสที่ไม่สามารถสร้างอินสแตนซ์ได้ (ไม่สามารถสร้างอ็อบเจกต์จากคลาสได้โดยตรง) \n",
    "มันถูกออกแบบมาให้เป็น base class ที่ derived class ต้องสืบทอดไป โดย abstract Class สามารถมี abstract methods ซึ่งเป็นเมธอดที่ไม่มีการกำหนดการทำงาน (implementation) ไว้ใน base class แต่ derived class ที่สืบทอดไปต้องกำหนดการทำงานของ abstract methods เหล่านั้น\n",
    "\n",
    "Polymorphism ช่วยให้เราสามารถปฏิบัติกับอ็อบเจกต์ของ derived class ที่สืบทอดจาก Abstract Class ได้ในรูปแบบเดียวกันผ่านตัวแปรชนิด Abstract Class\n",
    "เมื่อเราเรียก abstract methods ผ่านตัวแปรชนิด Abstract Class โปรแกรมจะเรียกใช้เมธอดที่มีการกำหนดการทำงานใน derived class ที่เกี่ยวข้อง\n",
    "\n",
    "การใช้ Abstract Class ร่วมกับ Polymorphism ช่วยให้เรากำหนดโครงสร้าง (structure) ของคลาสและบังคับให้ derived class ต้องมีพฤติกรรมบางอย่าง (abstract methods)"
   ]
  },
  {
   "cell_type": "markdown",
   "metadata": {},
   "source": [
    "1.สร้าง console application project ชื่อ Lab13_Ex04"
   ]
  },
  {
   "cell_type": "markdown",
   "metadata": {},
   "source": [
    "2.เปลี่ยน code ให้เป็นดังต่อไปนี้\n",
    "\n",
    "```csharp\n",
    "public abstract class Shape\n",
    "{\n",
    "    public abstract double Area();\n",
    "}\n",
    "\n",
    "public class Circle : Shape\n",
    "{\n",
    "    public double Radius { get; set; }\n",
    "\n",
    "    public override double Area()\n",
    "    {\n",
    "        return Math.PI * Radius * Radius;\n",
    "    }\n",
    "}\n",
    "\n",
    "public class Rectangle : Shape\n",
    "{\n",
    "    public double Width { get; set; }\n",
    "    public double Height { get; set; }\n",
    "\n",
    "    public override double Area()\n",
    "    {\n",
    "        return Width * Height;\n",
    "    }\n",
    "}\n",
    "\n",
    "\n",
    "Shape shape1 = new Circle { Radius = 5 };\n",
    "Shape shape2 = new Rectangle { Width = 4, Height = 6 };\n",
    "\n",
    "Console.WriteLine($\"Circle Area: {shape1.Area()}\");\n",
    "Console.WriteLine($\"Rectangle Area: {shape2.Area()}\");\n",
    "```"
   ]
  },
  {
   "cell_type": "markdown",
   "metadata": {},
   "source": [
    "3.Build project โดยการใช้คำสั่ง\n",
    "\n",
    "```cmd\n",
    "dotnet build  Lab13_Ex04\n",
    "```\n",
    "\n",
    "ถ้ามีที่ผิดพลาดในโปรแกรม ให้แก้ไขให้ถูกต้อง\n",
    "\n"
   ]
  },
  {
   "cell_type": "markdown",
   "metadata": {},
   "source": [
    "4.บันทึกผลที่ได้จากการรันคำสั่งในข้อ 3\n",
    "\n"
   ]
  },
  {
   "attachments": {
    "image.png": {
     "image/png": "[encoded data removed]"
    }
   },
   "cell_type": "markdown",
   "metadata": {},
   "source": [
    "![image.png](attachment:image.png)"
   ]
  },
  {
   "cell_type": "markdown",
   "metadata": {},
   "source": [
    "5.Run project โดยการใช้คำสั่ง\n",
    "\n",
    "```cmd\n",
    "dotnet run --project Lab13_Ex04\n",
    "```\n",
    "\n"
   ]
  },
  {
   "cell_type": "markdown",
   "metadata": {},
   "source": [
    "6.บันทึกผลที่ได้จากการรันคำสั่งในข้อ 5\n"
   ]
  },
  {
   "attachments": {
    "image.png": {
     "image/png": "[encoded data removed]"
    }
   },
   "cell_type": "markdown",
   "metadata": {},
   "source": [
    "![image.png](attachment:image.png)"
   ]
  },
  {
   "cell_type": "markdown",
   "metadata": {},
   "source": [
    "7.อธิบายสิ่งที่พบในการทดลอง"
   ]
  },
  {
   "cell_type": "markdown",
   "metadata": {},
   "source": [
    "การใช้ Abstract Class และ Polymorphism ในการคำนวณพื้นที่ของรูปทรงต่าง ๆ โดยใช้คลาส Shape เป็นคลาสฐาน (base class) และคลาสที่สืบทอดจาก Shape เช่น Circle และ Rectangle ที่ทำการ override เมธอด Area() เพื่อคำนวณพื้นที่ของแต่ละรูปทรง"
   ]
  }
 ],
 "metadata": {
  "kernelspec": {
   "display_name": ".NET (C#)",
   "language": "C#",
   "name": ".net-csharp"
  },
  "polyglot_notebook": {
   "kernelInfo": {
    "defaultKernelName": "csharp",
    "items": [
     {
      "aliases": [],
      "languageName": "csharp",
      "name": "csharp"
     }
    ]
   }
  }
 },
 "nbformat": 4,
 "nbformat_minor": 2
}
