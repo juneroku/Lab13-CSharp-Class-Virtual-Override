{
 "cells": [
  {
   "cell_type": "markdown",
   "metadata": {},
   "source": [
    "# Lab 13 Exercise 1"
   ]
  },
  {
   "cell_type": "markdown",
   "metadata": {},
   "source": [
    "## Polymorphism กับ Method Parameters"
   ]
  },
  {
   "cell_type": "markdown",
   "metadata": {},
   "source": [
    "เมธอดสามารถรับพารามิเตอร์ที่เป็นชนิดของ base class ได้ และเมื่อมีการส่งวัตถุของ derived class เข้าไป  เมธอดนั้นจะสามารถทำงานกับวัตถุของ derived class ได้เช่นกัน\n",
    "\n",
    "เนื่องจาก derived class สืบทอดมาจาก base class เป็นผลให้วัตถุของ derived class มีคุณสมบัติและเมธอดของ base class ตามไปด้วย ทำให้สามารถส่งเข้าไปในเมธอดที่รับพารามิเตอร์เป็นชนิดของ base class ได้"
   ]
  },
  {
   "cell_type": "markdown",
   "metadata": {},
   "source": [
    "1.สร้าง console application project ชื่อ Lab09_Ex07"
   ]
  },
  {
   "cell_type": "markdown",
   "metadata": {},
   "source": [
    "2.เปลี่ยน code ให้เป็นดังต่อไปนี้\n",
    "\n",
    "```csharp\n",
    "public abstract class Shape\n",
    "{\n",
    "    public abstract double Area();\n",
    "    public abstract void Draw();\n",
    "}\n",
    "\n",
    "public class Circle : Shape\n",
    "{\n",
    "    public double Radius { get; set; }\n",
    "\n",
    "    public Circle(double radius)\n",
    "    {\n",
    "        Radius = radius;\n",
    "    }\n",
    "\n",
    "    public override double Area()\n",
    "    {\n",
    "        return Math.PI * Radius * Radius;\n",
    "    }\n",
    "\n",
    "    public override void Draw()\n",
    "    {\n",
    "        Console.WriteLine($\"Drawing a circle with radius {Radius}\");\n",
    "    }\n",
    "}\n",
    "\n",
    "public class Rectangle : Shape\n",
    "{\n",
    "    public double Width { get; set; }\n",
    "    public double Height { get; set; }\n",
    "\n",
    "    public Rectangle(double width, double height)\n",
    "    {\n",
    "        Width = width;\n",
    "        Height = height;\n",
    "    }\n",
    "\n",
    "    public override double Area()\n",
    "    {\n",
    "        return Width * Height;\n",
    "    }\n",
    "\n",
    "    public override void Draw()\n",
    "    {\n",
    "        Console.WriteLine($\"Drawing a rectangle with width {Width} and height {Height}\");\n",
    "    }\n",
    "}\n",
    "\n",
    "public class ShapeProcessor\n",
    "{\n",
    "    public void DisplayShapeInfo(Shape shape)\n",
    "    {\n",
    "        Console.WriteLine($\"Area of {shape.GetType().Name}: {shape.Area()}\");\n",
    "        shape.Draw();\n",
    "    }\n",
    "}\n",
    "\n",
    "\n",
    "ShapeProcessor processor = new ShapeProcessor();\n",
    "\n",
    "Circle circle = new Circle(5); \n",
    "processor.DisplayShapeInfo(circle);\n",
    "\n",
    "Rectangle rectangle = new Rectangle(4, 6);\n",
    "processor.DisplayShapeInfo(rectangle);\n",
    "```"
   ]
  },
  {
   "cell_type": "markdown",
   "metadata": {},
   "source": [
    "3.Build project โดยการใช้คำสั่ง\n",
    "\n",
    "```cmd\n",
    "dotnet build  Lab13_Ex03\n",
    "```\n",
    "\n",
    "ถ้ามีที่ผิดพลาดในโปรแกรม ให้แก้ไขให้ถูกต้อง\n",
    "\n"
   ]
  },
  {
   "cell_type": "markdown",
   "metadata": {},
   "source": [
    "4.บันทึกผลที่ได้จากการรันคำสั่งในข้อ 3\n",
    "\n"
   ]
  },
  {
   "attachments": {
    "image.png": {
     "image/png": "[encoded data removed]"
    }
   },
   "cell_type": "markdown",
   "metadata": {},
   "source": [
    "![image.png](attachment:image.png)"
   ]
  },
  {
   "cell_type": "markdown",
   "metadata": {},
   "source": [
    "5.Run project โดยการใช้คำสั่ง\n",
    "\n",
    "```cmd\n",
    "dotnet run --project Lab13_Ex03\n",
    "```\n",
    "\n"
   ]
  },
  {
   "cell_type": "markdown",
   "metadata": {},
   "source": [
    "6.บันทึกผลที่ได้จากการรันคำสั่งในข้อ 5\n"
   ]
  },
  {
   "attachments": {
    "image.png": {
     "image/png": "[encoded data removed]"
    }
   },
   "cell_type": "markdown",
   "metadata": {},
   "source": [
    "![image.png](attachment:image.png)"
   ]
  },
  {
   "cell_type": "markdown",
   "metadata": {},
   "source": [
    "7.อธิบายสิ่งที่พบในการทดลอง (การส่ง object ของ derived class เป็น parameter ของ method ที่รับใน base class)\n"
   ]
  },
  {
   "cell_type": "markdown",
   "metadata": {},
   "source": [
    "การใช้ Polymorphism โดยการส่งออบเจกต์ของคลาสที่สืบทอด (Derived Class) ไปเป็นพารามิเตอร์ในเมธอดที่รับพารามิเตอร์เป็นออบเจกต์ของคลาสฐาน (Base Class) ซึ่งแสดงให้เห็นถึงความยืดหยุ่นในการใช้คลาสที่สืบทอดจากคลาสฐานในการทำงานร่วมกับเมธอดที่ออกแบบให้รองรับคลาสฐาน"
   ]
  }
 ],
 "metadata": {
  "kernelspec": {
   "display_name": ".NET (C#)",
   "language": "C#",
   "name": ".net-csharp"
  },
  "polyglot_notebook": {
   "kernelInfo": {
    "defaultKernelName": "csharp",
    "items": [
     {
      "aliases": [],
      "languageName": "csharp",
      "name": "csharp"
     }
    ]
   }
  }
 },
 "nbformat": 4,
 "nbformat_minor": 2
}
